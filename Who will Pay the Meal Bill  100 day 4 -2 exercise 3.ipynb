{
 "cells": [
  {
   "cell_type": "code",
   "execution_count": 51,
   "metadata": {},
   "outputs": [
    {
     "name": "stdout",
     "output_type": "stream",
     "text": [
      "Give me everybody's names, separated by a comma.  Pooja, Pinak, Mukesh, Sanhita, Blair, Gobind\n",
      " Blair\n",
      "Todays bill will pay by ! :\n"
     ]
    }
   ],
   "source": [
    "import random \n",
    "names_string = input(\"Give me everybody's names, separated by a comma.  \")\n",
    "\n",
    "names = names_string.split(\",\")\n",
    "\n",
    "num_item = len(names)\n",
    " \n",
    "random_choice = random.randint(0, num_item -1)\n",
    "who_pay_bill = names[random_choice]\n",
    "\n",
    "print(who_pay_bill+ \"\\nTodays bill will pay by ! :\" )\n",
    "\n"
   ]
  },
  {
   "cell_type": "code",
   "execution_count": null,
   "metadata": {},
   "outputs": [],
   "source": []
  }
 ],
 "metadata": {
  "kernelspec": {
   "display_name": "Python 3",
   "language": "python",
   "name": "python3"
  },
  "language_info": {
   "codemirror_mode": {
    "name": "ipython",
    "version": 3
   },
   "file_extension": ".py",
   "mimetype": "text/x-python",
   "name": "python",
   "nbconvert_exporter": "python",
   "pygments_lexer": "ipython3",
   "version": "3.8.3"
  }
 },
 "nbformat": 4,
 "nbformat_minor": 4
}
